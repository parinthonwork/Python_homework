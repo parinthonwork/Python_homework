{
 "cells": [
  {
   "cell_type": "markdown",
   "id": "a221518e-96e2-4ea4-a581-4879c95b74f9",
   "metadata": {},
   "source": [
    "<img src=\"./images/chap6_1.png\" width=460px>"
   ]
  },
  {
   "cell_type": "markdown",
   "id": "53640b66-7ff4-4070-a650-5d759680eaf9",
   "metadata": {},
   "source": [
    "# แบบฝึกหัดบทที่ 6 นิพจน์ และตัวดำเนินการ"
   ]
  },
  {
   "cell_type": "markdown",
   "id": "37c266fe-c53b-44da-a397-ef367a154b0b",
   "metadata": {},
   "source": [
    "## 5.1 จงแปลงนิพจน์ทางคณิตศาสตร์ให้เป็นโปรแกรม"
   ]
  },
  {
   "cell_type": "code",
   "execution_count": 19,
   "id": "401e407f-1046-4e6f-ae42-ff8d428fbd10",
   "metadata": {},
   "outputs": [
    {
     "data": {
      "text/plain": [
       "78.5"
      ]
     },
     "execution_count": 19,
     "metadata": {},
     "output_type": "execute_result"
    }
   ],
   "source": [
    "#คำตอบ\n",
    "pi = 3.14\n",
    "r = 5\n",
    "\n",
    "a = pi * (r**2)\n",
    "a\n"
   ]
  },
  {
   "cell_type": "markdown",
   "id": "0917eab1-82d0-4ae6-83b3-bd3d3ae61252",
   "metadata": {},
   "source": [
    "## 5.2 จงแปลงนิพจน์ทางคณิตศาสตร์ให้เป็นโปรแกรม"
   ]
  },
  {
   "cell_type": "code",
   "execution_count": 18,
   "id": "ce1c251f-7384-42e4-a2c9-1f4df0adb91a",
   "metadata": {},
   "outputs": [
    {
     "data": {
      "text/plain": [
       "20"
      ]
     },
     "execution_count": 18,
     "metadata": {},
     "output_type": "execute_result"
    }
   ],
   "source": [
    "#คำตอบ\n",
    "a = 4\n",
    "b = 2\n",
    "c = (a**2) + (b**2)\n",
    "c\n"
   ]
  },
  {
   "cell_type": "markdown",
   "id": "19f3f8e5-f05f-4a0b-a58b-59ba4e8c2f51",
   "metadata": {},
   "source": [
    "## 5.3 จงแปลงนิพจน์ทางคณิตศาสตร์ให้เป็นโปรแกรม"
   ]
  },
  {
   "cell_type": "code",
   "execution_count": 20,
   "id": "80f071f2-1b92-4c7b-b312-9b2bfea85501",
   "metadata": {},
   "outputs": [
    {
     "data": {
      "text/plain": [
       "92"
      ]
     },
     "execution_count": 20,
     "metadata": {},
     "output_type": "execute_result"
    }
   ],
   "source": [
    "#คำตอบ\n",
    "import math\n",
    "a = 1\n",
    "b = 10\n",
    "c = 2\n",
    "\n",
    "x = (b**2)-(4*a*c)\n",
    "result = math.sqrt(x) / 2*a\n",
    "\n",
    "x"
   ]
  },
  {
   "cell_type": "markdown",
   "id": "77cd413d-0c91-4374-9954-c2389226a00d",
   "metadata": {},
   "source": [
    "## 5.4 จงแปลงนิพจน์ทางคณิตศาสตร์ให้เป็นโปรแกรม"
   ]
  },
  {
   "cell_type": "code",
   "execution_count": 8,
   "id": "e2bc7708-b26d-4219-91e4-082d3b8284b6",
   "metadata": {},
   "outputs": [
    {
     "data": {
      "text/plain": [
       "6.0"
      ]
     },
     "execution_count": 8,
     "metadata": {},
     "output_type": "execute_result"
    }
   ],
   "source": [
    "#คำตอบ\n",
    "b = 2\n",
    "d = 3\n",
    "c = 2\n",
    "a = (b*2)*d/c\n",
    "a"
   ]
  },
  {
   "cell_type": "markdown",
   "id": "6d3a803d-23d6-49a7-adaf-8a55618e84c9",
   "metadata": {},
   "source": [
    "## 5.5 จงแปลงนิพจน์ทางคณิตศาสตร์ให้เป็นโปรแกรม"
   ]
  },
  {
   "cell_type": "code",
   "execution_count": 17,
   "id": "2cbe9d06-0578-4416-ae46-0d233e7cabe4",
   "metadata": {},
   "outputs": [
    {
     "data": {
      "text/plain": [
       "175"
      ]
     },
     "execution_count": 17,
     "metadata": {},
     "output_type": "execute_result"
    }
   ],
   "source": [
    "# คำตอบ\n",
    "b = 5\n",
    "a = (b**2)*(5+2)\n",
    "a"
   ]
  },
  {
   "cell_type": "code",
   "execution_count": null,
   "id": "879057e1-f26a-4e68-8ec7-2a31a8364946",
   "metadata": {},
   "outputs": [],
   "source": []
  }
 ],
 "metadata": {
  "kernelspec": {
   "display_name": "Python 3 (ipykernel)",
   "language": "python",
   "name": "python3"
  },
  "language_info": {
   "codemirror_mode": {
    "name": "ipython",
    "version": 3
   },
   "file_extension": ".py",
   "mimetype": "text/x-python",
   "name": "python",
   "nbconvert_exporter": "python",
   "pygments_lexer": "ipython3",
   "version": "3.11.5"
  }
 },
 "nbformat": 4,
 "nbformat_minor": 5
}
