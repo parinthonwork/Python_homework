{
 "cells": [
  {
   "cell_type": "code",
   "execution_count": 1,
   "id": "68d84a18-9f87-4993-b7e9-29902ec00cbe",
   "metadata": {
    "tags": []
   },
   "outputs": [
    {
     "name": "stdout",
     "output_type": "stream",
     "text": [
      "Parinthon Thavikul 6612732119\n"
     ]
    }
   ],
   "source": [
    "print(\"Parinthon Thavikul 6612732119\")"
   ]
  },
  {
   "cell_type": "code",
   "execution_count": null,
   "id": "576073a0-eeba-4380-89aa-8f950bb365bc",
   "metadata": {},
   "outputs": [],
   "source": []
  }
 ],
 "metadata": {
  "kernelspec": {
   "display_name": "Python 3 (ipykernel)",
   "language": "python",
   "name": "python3"
  },
  "language_info": {
   "codemirror_mode": {
    "name": "ipython",
    "version": 3
   },
   "file_extension": ".py",
   "mimetype": "text/x-python",
   "name": "python",
   "nbconvert_exporter": "python",
   "pygments_lexer": "ipython3",
   "version": "3.11.5"
  }
 },
 "nbformat": 4,
 "nbformat_minor": 5
}
